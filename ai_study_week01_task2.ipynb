{
  "nbformat": 4,
  "nbformat_minor": 0,
  "metadata": {
    "colab": {
      "provenance": [],
      "authorship_tag": "ABX9TyOjWFvD21CgobN7dSHESZQe",
      "include_colab_link": true
    },
    "kernelspec": {
      "name": "python3",
      "display_name": "Python 3"
    },
    "language_info": {
      "name": "python"
    }
  },
  "cells": [
    {
      "cell_type": "markdown",
      "metadata": {
        "id": "view-in-github",
        "colab_type": "text"
      },
      "source": [
        "<a href=\"https://colab.research.google.com/github/CodingCat-Jung/GDGoC_AI/blob/main/ai_study_week01_task2.ipynb\" target=\"_parent\"><img src=\"https://colab.research.google.com/assets/colab-badge.svg\" alt=\"Open In Colab\"/></a>"
      ]
    },
    {
      "cell_type": "code",
      "execution_count": 1,
      "metadata": {
        "colab": {
          "base_uri": "https://localhost:8080/"
        },
        "id": "KKRiYxr66emR",
        "outputId": "b858137c-ad1a-4d6e-b200-eaec687e8e05"
      },
      "outputs": [
        {
          "output_type": "stream",
          "name": "stdout",
          "text": [
            "데이터셋 샘플:\n",
            "[[5.1 3.5 1.4 0.2]\n",
            " [4.9 3.  1.4 0.2]\n",
            " [4.7 3.2 1.3 0.2]\n",
            " [4.6 3.1 1.5 0.2]\n",
            " [5.  3.6 1.4 0.2]]\n",
            "타깃 샘플:\n",
            "[0 0 0 0 0]\n",
            "특성(shape): (150, 4)\n",
            "타깃(shape): (150,)\n",
            "모델의 정확도: 1.00\n"
          ]
        }
      ],
      "source": [
        "# 필요한 라이브러리 불러오기\n",
        "from sklearn.datasets import load_iris\n",
        "from sklearn.model_selection import train_test_split\n",
        "from sklearn.linear_model import LogisticRegression\n",
        "from sklearn.metrics import accuracy_score\n",
        "\n",
        "# 1. 데이터 탐색\n",
        "# 데이터셋 로드\n",
        "iris = load_iris()\n",
        "# iris.data -> 꽃의 특성 데이터를 포함하는 넘파이 배열\n",
        "# iris.target -> 꽃의 품종(0,1,2로 라벨링 된)을 나타내는 데이터\n",
        "X, y = iris.data, iris.target\n",
        "\n",
        "# 데이터 확인\n",
        "print(\"데이터셋 샘플:\")\n",
        "print(X[:5])  # 특성의 처음 5개 샘플\n",
        "print(\"타깃 샘플:\")\n",
        "print(y[:5])  # 타깃의 처음 5개 샘플\n",
        "print(f\"특성(shape): {X.shape}\")\n",
        "print(f\"타깃(shape): {y.shape}\")\n",
        "\n",
        "# 2. 데이터 분할\n",
        "# 데이터를 훈련 세트와 테스트 세트로 나누기\n",
        "# 테스트 데이터 비율은 20%로 설정하고, random_state=42로 고정\n",
        "X_train, X_test, y_train, y_test = train_test_split(X, y, test_size=0.2, random_state=42)\n",
        "\n",
        "# 3. 모델 정의 및 훈련\n",
        "# Logistic Regression 모델 정의 및 훈련\n",
        "model = LogisticRegression(max_iter=200)  # max_iter를 충분히 늘려서 수렴 보장\n",
        "model.fit(X_train, y_train)\n",
        "\n",
        "# 4. 예측 및 평가\n",
        "# 테스트 데이터를 사용하여 예측\n",
        "y_pred = model.predict(X_test)\n",
        "\n",
        "# 예측 결과를 기반으로 정확도 출력\n",
        "accuracy = accuracy_score(y_test, y_pred)\n",
        "print(f\"모델의 정확도: {accuracy:.2f}\")\n"
      ]
    }
  ]
}